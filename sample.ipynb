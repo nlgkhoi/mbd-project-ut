{
 "cells": [
  {
   "cell_type": "code",
   "execution_count": 1,
   "metadata": {},
   "outputs": [
    {
     "name": "stderr",
     "output_type": "stream",
     "text": [
      "Setting default log level to \"WARN\".\n",
      "To adjust logging level use sc.setLogLevel(newLevel). For SparkR, use setLogLevel(newLevel).\n",
      "25/01/05 10:50:53 WARN NativeCodeLoader: Unable to load native-hadoop library for your platform... using builtin-java classes where applicable\n"
     ]
    }
   ],
   "source": [
    "from pyspark.sql import SparkSession\n",
    "import pyspark.sql.functions as F\n",
    "from pyspark.sql.functions import col\n",
    "\n",
    "spark = SparkSession.builder.appName(\"mbd-prj\").getOrCreate()"
   ]
  },
  {
   "cell_type": "markdown",
   "metadata": {},
   "source": [
    "# Reading the datasets"
   ]
  },
  {
   "cell_type": "code",
   "execution_count": 23,
   "metadata": {},
   "outputs": [],
   "source": [
    "from pathlib import Path\n",
    "lymsys_folder = Path(\"/Users/lgk1910/Library/CloudStorage/OneDrive-AaltoUniversity/Learning2/Big Data/Project/data/lmsys-chat-1m\")\n",
    "wildchat_folder = Path(\"/Users/lgk1910/Library/CloudStorage/OneDrive-AaltoUniversity/Learning2/Big Data/Project/data/WildChat-1M-Full/WildChat-1M-Full/\")"
   ]
  },
  {
   "cell_type": "code",
   "execution_count": 24,
   "metadata": {},
   "outputs": [
    {
     "name": "stdout",
     "output_type": "stream",
     "text": [
      "+--------------------+----------+-----------------------------------+----+----------+--------------------+--------+\n",
      "|     conversation_id|     model|                       conversation|turn|  language|   openai_moderation|redacted|\n",
      "+--------------------+----------+-----------------------------------+----+----------+--------------------+--------+\n",
      "|c20948192699451b8...|vicuna-13b|               [{Given the artic...|   1|   English|[{{false, false, ...|    true|\n",
      "|8b02aa2df44847a1b...|vicuna-33b|               [{Alright, let's ...|   2|   English|[{{false, false, ...|    true|\n",
      "|c18f3612fac140cb9...|vicuna-13b|[{あなたが最終更新されたのはいつ...|   5|  Japanese|[{{false, false, ...|   false|\n",
      "|d1fabb62e3364665a...| llama-13b|               [{You are an AI a...|   1|   English|[{{false, false, ...|    true|\n",
      "|b2da335248f04e439...| koala-13b|               [{Reescreva esse ...|   1|Portuguese|[{{false, false, ...|   false|\n",
      "+--------------------+----------+-----------------------------------+----+----------+--------------------+--------+\n",
      "only showing top 5 rows\n",
      "\n",
      "+--------------------+------------------+-------------------+---------------------------------+----+--------+--------------------+--------------------+-----+--------+-------------+---------------+--------------------+--------------------+\n",
      "|   conversation_hash|             model|          timestamp|                     conversation|turn|language|   openai_moderation| detoxify_moderation|toxic|redacted|        state|        country|           hashed_ip|              header|\n",
      "+--------------------+------------------+-------------------+---------------------------------+----+--------+--------------------+--------------------+-----+--------+-------------+---------------+--------------------+--------------------+\n",
      "|f01a345e668b978b6...|gpt-3.5-turbo-0613|2023-09-13 04:14:27|             [{(In the clubroo...|   1| English|[{{false, false, ...|[{2.1957975695841...|false|   false|     Michigan|  United States|f96c8515aa663db23...|{en-US,en;q=0.9, ...|\n",
      "|b9af1406a2f1593d7...|gpt-3.5-turbo-0613|2023-09-13 04:14:58|[{化妆没有卸妆水怎么办？详细, ...|   2| Chinese|[{{false, false, ...|[{0.0056160544045...|false|   false|         NULL|          China|5cf64578299ab34c6...|{zh-CN,zh;q=0.9, ...|\n",
      "|3da951ed8be6e2fbc...|gpt-3.5-turbo-0613|2023-09-13 04:15:23|           [{栀子, The Netherl...|   2| Chinese|[{{false, false, ...|[{5.7286431547254...|false|   false|         NULL|The Netherlands|7fc4eb3839e200368...|{en-US,en;q=0.5, ...|\n",
      "|867ec56917658725d...|gpt-3.5-turbo-0613|2023-09-13 04:16:17|             [{\\n             ...|   1| English|[{{false, false, ...|[{1.0973530879709...|false|   false|        Tokyo|          Japan|44213fa41ee39e32a...|{zh-CN,zh;q=0.9, ...|\n",
      "|36f876f730864cb25...|gpt-3.5-turbo-0613|2023-09-13 04:16:35|             [{Up the Video Ga...|   1| English|[{{false, false, ...|[{5.5147614330053...|false|   false|New Hampshire|  United States|60fa35789614e1a2c...|{en-US,en;q=0.9,f...|\n",
      "+--------------------+------------------+-------------------+---------------------------------+----+--------+--------------------+--------------------+-----+--------+-------------+---------------+--------------------+--------------------+\n",
      "only showing top 5 rows\n",
      "\n"
     ]
    }
   ],
   "source": [
    "# test reading the dataset from a folder of parquet files\n",
    "lymsys_df = spark.read.parquet(str(lymsys_folder))\n",
    "lymsys_df.show(5)\n",
    "wildchat_df = spark.read.parquet(str(wildchat_folder))\n",
    "wildchat_df.show(5)\n"
   ]
  },
  {
   "cell_type": "markdown",
   "metadata": {},
   "source": [
    "# Sample codes"
   ]
  },
  {
   "cell_type": "code",
   "execution_count": 25,
   "metadata": {},
   "outputs": [
    {
     "name": "stdout",
     "output_type": "stream",
     "text": [
      "dict_keys(['content', 'role'])\n",
      "dict_keys(['content', 'country', 'hashed_ip', 'header', 'language', 'redacted', 'role', 'state', 'timestamp', 'toxic', 'turn_identifier'])\n"
     ]
    }
   ],
   "source": [
    "# take the column 'conversation' from the first row of the dataframe, convert it to a list\n",
    "lym_conv_sample = lymsys_df.select('conversation').first().conversation\n",
    "print(lym_conv_sample[0].asDict().keys())\n",
    "wild_conv_sample = wildchat_df.select('conversation').first().conversation\n",
    "print(wild_conv_sample[0].asDict().keys())"
   ]
  },
  {
   "cell_type": "code",
   "execution_count": 32,
   "metadata": {},
   "outputs": [
    {
     "data": {
      "text/plain": [
       "Row(accept-language='en-US,en;q=0.9', user-agent='Mozilla/5.0 (Windows NT 10.0; Win64; x64) AppleWebKit/537.36 (KHTML, like Gecko) Chrome/116.0.0.0 Safari/537.36')"
      ]
     },
     "execution_count": 32,
     "metadata": {},
     "output_type": "execute_result"
    }
   ],
   "source": [
    "wildchat_df.select('header').first().header\n"
   ]
  },
  {
   "cell_type": "code",
   "execution_count": 31,
   "metadata": {},
   "outputs": [
    {
     "name": "stdout",
     "output_type": "stream",
     "text": [
      "+--------------------+------------------+-------------------+--------------------+----+--------+--------------------+--------------------+-----+--------+--------+-------------+--------------------+--------------------+\n",
      "|   conversation_hash|             model|          timestamp|        conversation|turn|language|   openai_moderation| detoxify_moderation|toxic|redacted|   state|      country|           hashed_ip|              header|\n",
      "+--------------------+------------------+-------------------+--------------------+----+--------+--------------------+--------------------+-----+--------+--------+-------------+--------------------+--------------------+\n",
      "|f01a345e668b978b6...|gpt-3.5-turbo-0613|2023-09-13 04:14:27|[{(In the clubroo...|   1| English|[{{false, false, ...|[{2.1957975695841...|false|   false|Michigan|United States|f96c8515aa663db23...|{en-US,en;q=0.9, ...|\n",
      "|136971e6080d62e86...|gpt-3.5-turbo-0613|2023-09-13 09:40:52|[{(In the clubroo...|   1| English|[{{false, false, ...|[{2.1957975695841...|false|   false|Michigan|United States|f96c8515aa663db23...|{en-US,en;q=0.9, ...|\n",
      "|96bab5ba087c49071...|gpt-3.5-turbo-0613|2023-09-13 09:43:27|[{(In the clubroo...|   1| English|[{{false, false, ...|[{1.0008661774918...|false|   false|Michigan|United States|f96c8515aa663db23...|{en-US,en;q=0.9, ...|\n",
      "|bb511e6800c893650...|gpt-3.5-turbo-0613|2023-09-13 09:45:33|[{(In the clubroo...|   1| English|[{{false, false, ...|[{1.0008661774918...|false|   false|Michigan|United States|f96c8515aa663db23...|{en-US,en;q=0.9, ...|\n",
      "|1f3008630f6fa75e2...|gpt-3.5-turbo-0613|2023-09-13 09:46:50|[{(In the clubroo...|   1| English|[{{false, false, ...|[{1.0008661774918...|false|   false|Michigan|United States|f96c8515aa663db23...|{en-US,en;q=0.9, ...|\n",
      "+--------------------+------------------+-------------------+--------------------+----+--------+--------------------+--------------------+-----+--------+--------+-------------+--------------------+--------------------+\n",
      "only showing top 5 rows\n",
      "\n"
     ]
    }
   ],
   "source": [
    "# search all rows with hashed_ip = 'f96c8515aa663db23ee086f36b7d3642036d5394bbbeada3fe0c6c8285f4d314'\n",
    "wild_ip = 'f96c8515aa663db23ee086f36b7d3642036d5394bbbeada3fe0c6c8285f4d314'\n",
    "wild_ip_df = wildchat_df.filter(col('hashed_ip') == wild_ip)\n",
    "wild_ip_df.show(5)\n"
   ]
  }
 ],
 "metadata": {
  "kernelspec": {
   "display_name": "sl",
   "language": "python",
   "name": "python3"
  },
  "language_info": {
   "codemirror_mode": {
    "name": "ipython",
    "version": 3
   },
   "file_extension": ".py",
   "mimetype": "text/x-python",
   "name": "python",
   "nbconvert_exporter": "python",
   "pygments_lexer": "ipython3",
   "version": "3.10.14"
  }
 },
 "nbformat": 4,
 "nbformat_minor": 2
}
