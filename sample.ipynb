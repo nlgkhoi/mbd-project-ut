{
 "cells": [
  {
   "cell_type": "code",
   "execution_count": 1,
   "metadata": {},
   "outputs": [
    {
     "name": "stderr",
     "output_type": "stream",
     "text": [
      "Setting default log level to \"WARN\".\n",
      "To adjust logging level use sc.setLogLevel(newLevel). For SparkR, use setLogLevel(newLevel).\n",
      "25/01/07 00:09:52 WARN NativeCodeLoader: Unable to load native-hadoop library for your platform... using builtin-java classes where applicable\n",
      "25/01/07 00:09:53 WARN Utils: Service 'SparkUI' could not bind on port 4040. Attempting port 4041.\n",
      "25/01/07 00:09:53 WARN Utils: Service 'SparkUI' could not bind on port 4041. Attempting port 4042.\n"
     ]
    }
   ],
   "source": [
    "from pyspark.sql import SparkSession\n",
    "import pyspark.sql.functions as F\n",
    "from pyspark.sql.functions import col\n",
    "\n",
    "spark = SparkSession.builder.appName(\"mbd-prj\").getOrCreate()"
   ]
  },
  {
   "cell_type": "markdown",
   "metadata": {},
   "source": [
    "# Reading the datasets"
   ]
  },
  {
   "cell_type": "code",
   "execution_count": 2,
   "metadata": {},
   "outputs": [],
   "source": [
    "from pathlib import Path\n",
    "lymsys_folder = Path(\"/Users/lgk1910/Library/CloudStorage/OneDrive-AaltoUniversity/Learning2/Big Data/Project/data/lmsys-chat-1m\")\n",
    "wildchat_folder = Path(\"/Users/lgk1910/Library/CloudStorage/OneDrive-AaltoUniversity/Learning2/Big Data/Project/data/WildChat-1M-Full/WildChat-1M-Full/\")"
   ]
  },
  {
   "cell_type": "code",
   "execution_count": 3,
   "metadata": {},
   "outputs": [
    {
     "name": "stderr",
     "output_type": "stream",
     "text": [
      "                                                                                \r"
     ]
    },
    {
     "name": "stdout",
     "output_type": "stream",
     "text": [
      "+--------------------+----------+-----------------------------------+----+----------+--------------------+--------+\n",
      "|     conversation_id|     model|                       conversation|turn|  language|   openai_moderation|redacted|\n",
      "+--------------------+----------+-----------------------------------+----+----------+--------------------+--------+\n",
      "|c20948192699451b8...|vicuna-13b|               [{Given the artic...|   1|   English|[{{false, false, ...|    true|\n",
      "|8b02aa2df44847a1b...|vicuna-33b|               [{Alright, let's ...|   2|   English|[{{false, false, ...|    true|\n",
      "|c18f3612fac140cb9...|vicuna-13b|[{あなたが最終更新されたのはいつ...|   5|  Japanese|[{{false, false, ...|   false|\n",
      "|d1fabb62e3364665a...| llama-13b|               [{You are an AI a...|   1|   English|[{{false, false, ...|    true|\n",
      "|b2da335248f04e439...| koala-13b|               [{Reescreva esse ...|   1|Portuguese|[{{false, false, ...|   false|\n",
      "+--------------------+----------+-----------------------------------+----+----------+--------------------+--------+\n",
      "only showing top 5 rows\n",
      "\n",
      "+--------------------+------------------+-------------------+---------------------------------+----+--------+--------------------+--------------------+-----+--------+-------------+---------------+--------------------+--------------------+\n",
      "|   conversation_hash|             model|          timestamp|                     conversation|turn|language|   openai_moderation| detoxify_moderation|toxic|redacted|        state|        country|           hashed_ip|              header|\n",
      "+--------------------+------------------+-------------------+---------------------------------+----+--------+--------------------+--------------------+-----+--------+-------------+---------------+--------------------+--------------------+\n",
      "|f01a345e668b978b6...|gpt-3.5-turbo-0613|2023-09-13 04:14:27|             [{(In the clubroo...|   1| English|[{{false, false, ...|[{2.1957975695841...|false|   false|     Michigan|  United States|f96c8515aa663db23...|{en-US,en;q=0.9, ...|\n",
      "|b9af1406a2f1593d7...|gpt-3.5-turbo-0613|2023-09-13 04:14:58|[{化妆没有卸妆水怎么办？详细, ...|   2| Chinese|[{{false, false, ...|[{0.0056160544045...|false|   false|         NULL|          China|5cf64578299ab34c6...|{zh-CN,zh;q=0.9, ...|\n",
      "|3da951ed8be6e2fbc...|gpt-3.5-turbo-0613|2023-09-13 04:15:23|           [{栀子, The Netherl...|   2| Chinese|[{{false, false, ...|[{5.7286431547254...|false|   false|         NULL|The Netherlands|7fc4eb3839e200368...|{en-US,en;q=0.5, ...|\n",
      "|867ec56917658725d...|gpt-3.5-turbo-0613|2023-09-13 04:16:17|             [{\\n             ...|   1| English|[{{false, false, ...|[{1.0973530879709...|false|   false|        Tokyo|          Japan|44213fa41ee39e32a...|{zh-CN,zh;q=0.9, ...|\n",
      "|36f876f730864cb25...|gpt-3.5-turbo-0613|2023-09-13 04:16:35|             [{Up the Video Ga...|   1| English|[{{false, false, ...|[{5.5147614330053...|false|   false|New Hampshire|  United States|60fa35789614e1a2c...|{en-US,en;q=0.9,f...|\n",
      "+--------------------+------------------+-------------------+---------------------------------+----+--------+--------------------+--------------------+-----+--------+-------------+---------------+--------------------+--------------------+\n",
      "only showing top 5 rows\n",
      "\n"
     ]
    }
   ],
   "source": [
    "# test reading the dataset from a folder of parquet files\n",
    "lymsys_df = spark.read.parquet(str(lymsys_folder))\n",
    "lymsys_df.show(5)\n",
    "wildchat_df = spark.read.parquet(str(wildchat_folder))\n",
    "wildchat_df.show(5)\n"
   ]
  },
  {
   "cell_type": "markdown",
   "metadata": {},
   "source": [
    "# Sample codes"
   ]
  },
  {
   "cell_type": "markdown",
   "metadata": {},
   "source": [
    "## Read country - state timezone and join with WildChat dataset"
   ]
  },
  {
   "cell_type": "code",
   "execution_count": 5,
   "metadata": {},
   "outputs": [
    {
     "data": {
      "text/plain": [
       "2433"
      ]
     },
     "execution_count": 5,
     "metadata": {},
     "output_type": "execute_result"
    }
   ],
   "source": [
    "# open the parquet file\n",
    "country_state_df = spark.read.parquet(\"country_state_timezone.parquet\")\n",
    "country_state_df.count() # 2433"
   ]
  },
  {
   "cell_type": "code",
   "execution_count": 6,
   "metadata": {},
   "outputs": [
    {
     "name": "stderr",
     "output_type": "stream",
     "text": [
      "                                                                                \r"
     ]
    },
    {
     "data": {
      "text/plain": [
       "1262"
      ]
     },
     "execution_count": 6,
     "metadata": {},
     "output_type": "execute_result"
    }
   ],
   "source": [
    "# join condition to handle cases when 'state' is null\n",
    "wildchat_df = wildchat_df.join(\n",
    "    country_state_df,\n",
    "    (\n",
    "        (wildchat_df[\"country\"] == country_state_df[\"ccountry\"]) &\n",
    "        (\n",
    "            (wildchat_df[\"state\"] == country_state_df[\"sstate\"]) |\n",
    "            (wildchat_df[\"state\"].isNull() & country_state_df[\"sstate\"].isNull())\n",
    "        )\n",
    "    ),\n",
    "    \"left\"\n",
    ")\n",
    "\n",
    "\n",
    "# Select the required columns and filter to show rows where 'timezone' is null, supposed to be 1262 (only a small fraction)\n",
    "wildchat_df.select(\"country\", \"state\", \"timezone\").filter(F.col(\"timezone\").isNull()).count() # 1262\n"
   ]
  }
 ],
 "metadata": {
  "kernelspec": {
   "display_name": "sl",
   "language": "python",
   "name": "python3"
  },
  "language_info": {
   "codemirror_mode": {
    "name": "ipython",
    "version": 3
   },
   "file_extension": ".py",
   "mimetype": "text/x-python",
   "name": "python",
   "nbconvert_exporter": "python",
   "pygments_lexer": "ipython3",
   "version": "3.10.14"
  }
 },
 "nbformat": 4,
 "nbformat_minor": 2
}
