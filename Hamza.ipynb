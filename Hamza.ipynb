{
 "cells": [
  {
   "cell_type": "code",
   "execution_count": 60,
   "id": "dbc92e02-d38a-4d47-ba7f-9808a9c34007",
   "metadata": {},
   "outputs": [],
   "source": [
    "from pyspark.sql import SparkSession\n",
    "import pyspark.sql.functions as F\n",
    "from pyspark.sql.functions import col\n",
    "\n",
    "spark = SparkSession.builder.appName(\"data\").getOrCreate()\n"
   ]
  },
  {
   "cell_type": "code",
   "execution_count": 62,
   "id": "a5577aae-c6a2-4d9b-a10d-392019f926a6",
   "metadata": {},
   "outputs": [],
   "source": [
    "from pathlib import Path\n",
    "lymsys_folder = Path(\"/Users/hamzaboukhriss/Desktop/Bigdata/lymsys\")\n",
    "wildchat_folder = Path(\"/Users/hamzaboukhriss/Desktop/Bigdata/wildchat\")"
   ]
  },
  {
   "cell_type": "code",
   "execution_count": 64,
   "id": "01ed1b21-9245-4cce-8b2d-f619990d2bf3",
   "metadata": {},
   "outputs": [
    {
     "name": "stdout",
     "output_type": "stream",
     "text": [
      "+--------------------+----------+-----------------------------------+----+----------+--------------------+--------+\n",
      "|     conversation_id|     model|                       conversation|turn|  language|   openai_moderation|redacted|\n",
      "+--------------------+----------+-----------------------------------+----+----------+--------------------+--------+\n",
      "|c20948192699451b8...|vicuna-13b|               [{Given the artic...|   1|   English|[{{false, false, ...|    true|\n",
      "|8b02aa2df44847a1b...|vicuna-33b|               [{Alright, let's ...|   2|   English|[{{false, false, ...|    true|\n",
      "|c18f3612fac140cb9...|vicuna-13b|[{あなたが最終更新されたのはいつ...|   5|  Japanese|[{{false, false, ...|   false|\n",
      "|d1fabb62e3364665a...| llama-13b|               [{You are an AI a...|   1|   English|[{{false, false, ...|    true|\n",
      "|b2da335248f04e439...| koala-13b|               [{Reescreva esse ...|   1|Portuguese|[{{false, false, ...|   false|\n",
      "+--------------------+----------+-----------------------------------+----+----------+--------------------+--------+\n",
      "only showing top 5 rows\n",
      "\n",
      "+--------------------+------------------+-------------------+---------------------------------+----+--------+--------------------+--------------------+-----+--------+-------------+---------------+--------------------+--------------------+\n",
      "|   conversation_hash|             model|          timestamp|                     conversation|turn|language|   openai_moderation| detoxify_moderation|toxic|redacted|        state|        country|           hashed_ip|              header|\n",
      "+--------------------+------------------+-------------------+---------------------------------+----+--------+--------------------+--------------------+-----+--------+-------------+---------------+--------------------+--------------------+\n",
      "|f01a345e668b978b6...|gpt-3.5-turbo-0613|2023-09-13 04:14:27|             [{(In the clubroo...|   1| English|[{{false, false, ...|[{2.1957975695841...|false|   false|     Michigan|  United States|f96c8515aa663db23...|{en-US,en;q=0.9, ...|\n",
      "|b9af1406a2f1593d7...|gpt-3.5-turbo-0613|2023-09-13 04:14:58|[{化妆没有卸妆水怎么办？详细, ...|   2| Chinese|[{{false, false, ...|[{0.0056160544045...|false|   false|         NULL|          China|5cf64578299ab34c6...|{zh-CN,zh;q=0.9, ...|\n",
      "|3da951ed8be6e2fbc...|gpt-3.5-turbo-0613|2023-09-13 04:15:23|           [{栀子, The Netherl...|   2| Chinese|[{{false, false, ...|[{5.7286431547254...|false|   false|         NULL|The Netherlands|7fc4eb3839e200368...|{en-US,en;q=0.5, ...|\n",
      "|867ec56917658725d...|gpt-3.5-turbo-0613|2023-09-13 04:16:17|             [{\\n             ...|   1| English|[{{false, false, ...|[{1.0973530879709...|false|   false|        Tokyo|          Japan|44213fa41ee39e32a...|{zh-CN,zh;q=0.9, ...|\n",
      "|36f876f730864cb25...|gpt-3.5-turbo-0613|2023-09-13 04:16:35|             [{Up the Video Ga...|   1| English|[{{false, false, ...|[{5.5147614330053...|false|   false|New Hampshire|  United States|60fa35789614e1a2c...|{en-US,en;q=0.9,f...|\n",
      "+--------------------+------------------+-------------------+---------------------------------+----+--------+--------------------+--------------------+-----+--------+-------------+---------------+--------------------+--------------------+\n",
      "only showing top 5 rows\n",
      "\n"
     ]
    }
   ],
   "source": [
    "\n",
    "lymsys_df = spark.read.parquet(str(lymsys_folder))\n",
    "lymsys_df.show(5)\n",
    "wildchat_df = spark.read.parquet(str(wildchat_folder))\n",
    "wildchat_df.show(5)\n"
   ]
  },
  {
   "cell_type": "code",
   "execution_count": 66,
   "id": "0449c901-1ab0-4a88-b778-09b51ed4f97a",
   "metadata": {},
   "outputs": [
    {
     "name": "stdout",
     "output_type": "stream",
     "text": [
      "+--------------------+------------------+-------------------+-----------------------------------+----+--------+--------------------+--------------------+-----+--------+-------------+---------------+--------------------+--------------------+-----------+\n",
      "|   conversation_hash|             model|          timestamp|                       conversation|turn|language|   openai_moderation| detoxify_moderation|toxic|redacted|        state|        country|           hashed_ip|              header|device_type|\n",
      "+--------------------+------------------+-------------------+-----------------------------------+----+--------+--------------------+--------------------+-----+--------+-------------+---------------+--------------------+--------------------+-----------+\n",
      "|f01a345e668b978b6...|gpt-3.5-turbo-0613|2023-09-13 04:14:27|               [{(In the clubroo...|   1| English|[{{false, false, ...|[{2.1957975695841...|false|   false|     Michigan|  United States|f96c8515aa663db23...|{en-US,en;q=0.9, ...|    desktop|\n",
      "|b9af1406a2f1593d7...|gpt-3.5-turbo-0613|2023-09-13 04:14:58|  [{化妆没有卸妆水怎么办？详细, ...|   2| Chinese|[{{false, false, ...|[{0.0056160544045...|false|   false|         NULL|          China|5cf64578299ab34c6...|{zh-CN,zh;q=0.9, ...|    desktop|\n",
      "|3da951ed8be6e2fbc...|gpt-3.5-turbo-0613|2023-09-13 04:15:23|             [{栀子, The Netherl...|   2| Chinese|[{{false, false, ...|[{5.7286431547254...|false|   false|         NULL|The Netherlands|7fc4eb3839e200368...|{en-US,en;q=0.5, ...|    desktop|\n",
      "|867ec56917658725d...|gpt-3.5-turbo-0613|2023-09-13 04:16:17|               [{\\n             ...|   1| English|[{{false, false, ...|[{1.0973530879709...|false|   false|        Tokyo|          Japan|44213fa41ee39e32a...|{zh-CN,zh;q=0.9, ...|    desktop|\n",
      "|36f876f730864cb25...|gpt-3.5-turbo-0613|2023-09-13 04:16:35|               [{Up the Video Ga...|   1| English|[{{false, false, ...|[{5.5147614330053...|false|   false|New Hampshire|  United States|60fa35789614e1a2c...|{en-US,en;q=0.9,f...|    desktop|\n",
      "|de3206fea425fb309...|gpt-3.5-turbo-0613|2023-09-13 04:17:02|              [{translation: \"十...|   3| English|[{{false, false, ...|[{0.0037971513811...|false|   false|         NULL|      Hong Kong|341d128a74b45b725...|{en-US,en;q=0.9, ...|    desktop|\n",
      "|741bfa79977aacde4...|gpt-3.5-turbo-0613|2023-09-13 04:17:24|[{简短地概括一下行为主义学习理论...|   1| Chinese|[{{false, false, ...|[{0.0053501916117...|false|   false|        Tokyo|          Japan|14e6bd0e91eae5c90...|{zh-CN,zh;q=0.9,e...|    desktop|\n",
      "|d1268da297f269948...|gpt-3.5-turbo-0613|2023-09-13 04:17:58|               [{\\n             ...|   1| English|[{{false, false, ...|[{1.1489271128084...|false|   false|         NULL|      Singapore|2846376efdfdcbe4e...|{zh-CN,zh;q=0.9,e...|    desktop|\n",
      "|e1bd8ac0b1ab98bb9...|gpt-3.5-turbo-0613|2023-09-13 04:18:09|               [{[Return just th...|   1| English|[{{false, false, ...|[{6.7841925192624...|false|   false|  Connecticut|  United States|2a28eab6a25a22abb...|{en-US,en;q=0.9, ...|    desktop|\n",
      "|269c2a8b6a431b61e...|gpt-3.5-turbo-0613|2023-09-13 04:19:28|               [{Hi do you know ...|   3| English|[{{false, false, ...|[{1.3463784125633...|false|   false|         NULL|  United States|9b13703e3b1364a4d...|{en-US,en;q=0.9, ...|    desktop|\n",
      "|26a07ad55dc507a99...|gpt-3.5-turbo-0613|2023-09-13 04:19:44|               [{\\n             ...|   1| English|[{{false, false, ...|[{1.1112984793726...|false|   false|    Guangdong|          China|1e6d00cf7615e689f...|{zh-CN,zh;q=0.9, ...|    desktop|\n",
      "|bdd91e21ae72e38bb...|gpt-3.5-turbo-0613|2023-09-13 04:22:24|               [{\\n             ...|   1| English|[{{false, false, ...|[{1.1239431478315...|false|   false|         NULL|          China|61e4a3f11d70e3967...|{zh-CN,zh;q=0.9, ...|    desktop|\n",
      "|614d03c4127b1b031...|gpt-3.5-turbo-0613|2023-09-13 04:23:13|               [{class Solution ...|   1| Chinese|[{{false, false, ...|[{0.0031971449498...|false|   false|         NULL|      Hong Kong|003cf6ab019d9d1b6...|{zh-CN,zh;q=0.9, ...|    desktop|\n",
      "|7dbd856cdd0358ea6...|gpt-3.5-turbo-0613|2023-09-13 04:23:31|               [{\\n             ...|   1| English|[{{false, false, ...|[{1.1453840124886...|false|   false|   California|  United States|65146bb7bb497c133...|{zh-CN,zh;q=0.9, ...|    desktop|\n",
      "|697e5852d28338ee1...|gpt-3.5-turbo-0613|2023-09-13 04:24:50|               [{\\n             ...|   1| English|[{{false, false, ...|[{1.1112984793726...|false|   false|    Guangdong|          China|1e6d00cf7615e689f...|{zh-CN,zh;q=0.9, ...|    desktop|\n",
      "|bb0d491de8210219e...|gpt-3.5-turbo-0613|2023-09-13 04:25:40|               [{ازاي اكسب من تط...|   6|  Arabic|[{{false, false, ...|[{0.0041594482026...|false|   false|      Gharbia|          Egypt|c26a963cb1eff2640...|{ar-EG,ar;q=0.9,e...|     mobile|\n",
      "+--------------------+------------------+-------------------+-----------------------------------+----+--------+--------------------+--------------------+-----+--------+-------------+---------------+--------------------+--------------------+-----------+\n",
      "only showing top 16 rows\n",
      "\n"
     ]
    }
   ],
   "source": [
    "from pyspark.sql.functions import when\n",
    "\n",
    "# Create a column to assign device type based on user-agent (desktop vs mobile)\n",
    "a_df = wildchat_df.withColumn(\n",
    "\t\"device_type\",\n",
    "\twhen(\n",
    "\t\tF.lower(F.col(\"header.user-agent\")).like(\"%mobile%\"),\n",
    "\t\t\"mobile\"\n",
    "\t).otherwise(\"desktop\")\n",
    ")\n",
    "\n",
    "\n",
    "\n",
    "a_df.show(16)\n"
   ]
  },
  {
   "cell_type": "code",
   "execution_count": 68,
   "id": "82f14adb-fb19-4160-a6af-233c29cf14fe",
   "metadata": {},
   "outputs": [
    {
     "name": "stdout",
     "output_type": "stream",
     "text": [
      "+-----------+------+\n",
      "|device_type| count|\n",
      "+-----------+------+\n",
      "|    desktop|765538|\n",
      "|     mobile|169813|\n",
      "+-----------+------+\n",
      "\n"
     ]
    }
   ],
   "source": [
    "# Count the number of person using desktop and mobile as a device \n",
    "device_counts = a_df.groupBy(\"device_type\").count()\n",
    "\n",
    "device_counts.show()"
   ]
  },
  {
   "cell_type": "code",
   "execution_count": 75,
   "id": "0d49d68f-fd51-455f-8193-bde98c9b2030",
   "metadata": {},
   "outputs": [],
   "source": []
  },
  {
   "cell_type": "code",
   "execution_count": 73,
   "id": "f12981a3-f772-40bf-8770-0b5d63ffdc34",
   "metadata": {},
   "outputs": [
    {
     "name": "stdout",
     "output_type": "stream",
     "text": [
      "+--------------------+------+-------+\n",
      "|             country|mobile|desktop|\n",
      "+--------------------+------+-------+\n",
      "|              Russia| 25067| 111711|\n",
      "|            Paraguay|    25|     35|\n",
      "|               Macao|   301|    771|\n",
      "|               Yemen|   429|    516|\n",
      "|             Senegal|     4|     39|\n",
      "|              Sweden|   283|   1454|\n",
      "|          Cabo Verde|     1|      3|\n",
      "|     The Netherlands|  2554|   7742|\n",
      "|              Guyana|     0|     36|\n",
      "|         Philippines|  2430|   7428|\n",
      "|             Eritrea|     2|      5|\n",
      "|              Jersey|     1|      0|\n",
      "|            Djibouti|     0|      1|\n",
      "|           Singapore|  1223|  11514|\n",
      "|            Malaysia|   449|   3204|\n",
      "|                Fiji|     1|     15|\n",
      "|              Malawi|     1|      4|\n",
      "|                Iraq|   335|    540|\n",
      "|             Germany|  2906|  31575|\n",
      "|Northern Mariana ...|     2|      0|\n",
      "+--------------------+------+-------+\n",
      "only showing top 20 rows\n",
      "\n"
     ]
    },
    {
     "name": "stderr",
     "output_type": "stream",
     "text": [
      "                                                                                \r"
     ]
    }
   ],
   "source": [
    "#regional Preferences  \n",
    "device_by_country_pivot = a_df.groupBy(\"country\") \\\n",
    "    .pivot(\"device_type\", [\"mobile\", \"desktop\"]) \\\n",
    "    .count() \\\n",
    "    .fillna(0) \n",
    "\n",
    "device_by_country_pivot.show()\n",
    "\n"
   ]
  },
  {
   "cell_type": "code",
   "execution_count": null,
   "id": "52cd79fd-b519-416a-aacb-4a514da9406d",
   "metadata": {},
   "outputs": [],
   "source": []
  }
 ],
 "metadata": {
  "kernelspec": {
   "display_name": "Python 3 (ipykernel)",
   "language": "python",
   "name": "python3"
  },
  "language_info": {
   "codemirror_mode": {
    "name": "ipython",
    "version": 3
   },
   "file_extension": ".py",
   "mimetype": "text/x-python",
   "name": "python",
   "nbconvert_exporter": "python",
   "pygments_lexer": "ipython3",
   "version": "3.12.2"
  }
 },
 "nbformat": 4,
 "nbformat_minor": 5
}
